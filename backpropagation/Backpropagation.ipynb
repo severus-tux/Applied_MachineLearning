{
 "cells": [
  {
   "cell_type": "code",
   "execution_count": 10,
   "metadata": {},
   "outputs": [],
   "source": [
    "import numpy as np\n",
    "import matplotlib.pyplot as plt"
   ]
  },
  {
   "cell_type": "code",
   "execution_count": 3,
   "metadata": {},
   "outputs": [],
   "source": [
    "np.random.seed(100)"
   ]
  },
  {
   "cell_type": "code",
   "execution_count": 4,
   "metadata": {},
   "outputs": [],
   "source": [
    "class Layer:\n",
    "    \n",
    "    def __init__(self, n_input, n_neurons, activation=None, weights=None, bias=None):\n",
    "        self.weights = weights if weights is not None else np.random.rand(n_input, n_neurons)\n",
    "        self.activation = activation\n",
    "        self.bias = bias if bias is not None else np.random.rand(n_neurons)\n",
    "        self.last_activation = None\n",
    "        self.error = None\n",
    "        self.delta = None\n",
    "\n",
    "    def activate(self, x):\n",
    "        r = np.dot(x, self.weights) + self.bias\n",
    "        self.last_activation = self._apply_activation(r)\n",
    "        return self.last_activation\n",
    "\n",
    "    def _apply_activation(self, r):\n",
    "        if self.activation is None:\n",
    "            return r\n",
    "\n",
    "        if self.activation == 'tanh':\n",
    "            return np.tanh(r)\n",
    "\n",
    "        if self.activation == 'sigmoid':\n",
    "            return 1 / (1 + np.exp(-r))\n",
    "\n",
    "        return r\n",
    "\n",
    "    def apply_activation_derivative(self, r):\n",
    "        if self.activation is None:\n",
    "            return r\n",
    "\n",
    "        if self.activation == 'tanh':\n",
    "            return 1 - r ** 2\n",
    "\n",
    "        if self.activation == 'sigmoid':\n",
    "            return r * (1 - r)\n",
    "\n",
    "        return r"
   ]
  },
  {
   "cell_type": "code",
   "execution_count": 5,
   "metadata": {},
   "outputs": [],
   "source": [
    "class NeuralNetwork:\n",
    "    def __init__(self):\n",
    "        self._layers = []\n",
    "\n",
    "    def add_layer(self, layer):\n",
    "        self._layers.append(layer)\n",
    "\n",
    "    def feed_forward(self, A):\n",
    "        for layer in self._layers:\n",
    "            A = layer.activate(A)\n",
    "\n",
    "        return A\n",
    "\n",
    "    def predict(self, X):\n",
    "\n",
    "        ff = self.feed_forward(X)\n",
    "\n",
    "        if ff.ndim == 1:\n",
    "            return np.argmax(ff)\n",
    "\n",
    "        return np.argmax(ff, axis=1)\n",
    "\n",
    "    def backpropagation(self, X, y, learning_rate):\n",
    "        output = self.feed_forward(X)\n",
    "        for i in reversed(range(len(self._layers))):\n",
    "            layer = self._layers[i]\n",
    "\n",
    "            if layer == self._layers[-1]:\n",
    "                layer.error = y - output\n",
    "                layer.delta = layer.error * layer.apply_activation_derivative(output)\n",
    "            else:\n",
    "                next_layer = self._layers[i + 1]\n",
    "                layer.error = np.dot(next_layer.weights, next_layer.delta)\n",
    "                layer.delta = layer.error * layer.apply_activation_derivative(layer.last_activation)\n",
    "\n",
    "        for i in range(len(self._layers)):\n",
    "            layer = self._layers[i]\n",
    "            input_to_use = np.atleast_2d(X if i == 0 else self._layers[i - 1].last_activation)\n",
    "            layer.weights += layer.delta * input_to_use.T * learning_rate\n",
    "\n",
    "    def train(self, X, y, learning_rate, max_epochs):\n",
    "        mses = []\n",
    "\n",
    "        for i in range(max_epochs):\n",
    "            for j in range(len(X)):\n",
    "                self.backpropagation(X[j], y[j], learning_rate)\n",
    "            if i % 10 == 0:\n",
    "                mse = np.mean(np.square(y - nn.feed_forward(X)))\n",
    "                mses.append(mse)\n",
    "                print('Epoch: #%s, MSE: %f' % (i, float(mse)))\n",
    "\n",
    "        return mses\n",
    "\n",
    "    @staticmethod\n",
    "    def accuracy(y_pred, y_true):\n",
    "        return (y_pred == y_true).mean()\n"
   ]
  },
  {
   "cell_type": "code",
   "execution_count": 11,
   "metadata": {},
   "outputs": [
    {
     "name": "stdout",
     "output_type": "stream",
     "text": [
      "Epoch: #0, MSE: 0.513106\n",
      "Epoch: #10, MSE: 0.235782\n",
      "Epoch: #20, MSE: 0.196025\n",
      "Epoch: #30, MSE: 0.192109\n",
      "Epoch: #40, MSE: 0.191278\n",
      "Epoch: #50, MSE: 0.190795\n",
      "Epoch: #60, MSE: 0.190182\n",
      "Epoch: #70, MSE: 0.189105\n",
      "Epoch: #80, MSE: 0.186777\n",
      "Epoch: #90, MSE: 0.180778\n",
      "Epoch: #100, MSE: 0.168560\n",
      "Epoch: #110, MSE: 0.156901\n",
      "Epoch: #120, MSE: 0.147774\n",
      "Epoch: #130, MSE: 0.139767\n",
      "Epoch: #140, MSE: 0.132506\n",
      "Epoch: #150, MSE: 0.125947\n",
      "Epoch: #160, MSE: 0.120082\n",
      "Epoch: #170, MSE: 0.114868\n",
      "Epoch: #180, MSE: 0.110228\n",
      "Epoch: #190, MSE: 0.106075\n",
      "Epoch: #200, MSE: 0.102331\n",
      "Epoch: #210, MSE: 0.098932\n",
      "Epoch: #220, MSE: 0.095826\n",
      "Epoch: #230, MSE: 0.092969\n",
      "Epoch: #240, MSE: 0.090329\n",
      "Epoch: #250, MSE: 0.087878\n",
      "Epoch: #260, MSE: 0.085595\n",
      "Epoch: #270, MSE: 0.083461\n",
      "Epoch: #280, MSE: 0.081462\n",
      "Accuracy: 50.00%\n"
     ]
    },
    {
     "data": {
      "image/png": "[encoded data removed]",
      "text/plain": [
       "<Figure size 432x288 with 1 Axes>"
      ]
     },
     "metadata": {
      "needs_background": "light"
     },
     "output_type": "display_data"
    }
   ],
   "source": [
    "nn = NeuralNetwork()\n",
    "nn.add_layer(Layer(2, 3, 'tanh'))\n",
    "nn.add_layer(Layer(3, 3, 'sigmoid'))\n",
    "nn.add_layer(Layer(3, 2, 'sigmoid'))\n",
    "\n",
    "# Define dataset\n",
    "X = np.array([[0, 0], [0, 1], [1, 0], [1, 1]])\n",
    "y = np.array([[0], [0], [0], [1]])\n",
    "\n",
    "# Train the neural network\n",
    "errors = nn.train(X, y, 0.3, 290)\n",
    "print('Accuracy: %.2f%%' % (nn.accuracy(nn.predict(X), y.flatten()) * 100))\n",
    "\n",
    "# Plot changes in mse\n",
    "plt.plot(errors)\n",
    "plt.title('Changes in MSE')\n",
    "plt.xlabel('Epoch (every 10th)')\n",
    "plt.ylabel('MSE')\n",
    "plt.show()"
   ]
  },
  {
   "cell_type": "code",
   "execution_count": null,
   "metadata": {},
   "outputs": [],
   "source": []
  }
 ],
 "metadata": {
  "kernelspec": {
   "display_name": "Python 3",
   "language": "python",
   "name": "python3"
  },
  "language_info": {
   "codemirror_mode": {
    "name": "ipython",
    "version": 3
   },
   "file_extension": ".py",
   "mimetype": "text/x-python",
   "name": "python",
   "nbconvert_exporter": "python",
   "pygments_lexer": "ipython3",
   "version": "3.7.2"
  }
 },
 "nbformat": 4,
 "nbformat_minor": 2
}
